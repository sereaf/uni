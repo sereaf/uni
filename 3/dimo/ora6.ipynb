{
 "cells": [
  {
   "cell_type": "markdown",
   "id": "27a3ca",
   "metadata": {
    "collapsed": false
   },
   "source": [
    "### Diszkrét logaritmus\n",
    "\n",
    "1. Írj programot számok gyors hatványozására és hasonlítsd össze annak futási idejét a **^** művelet futási idejével! \\(lásd az algoritmust a [https://compalg.elte.gitlab\\-pages.hu/dimoa\\-web/gyakorlatok/number\\_theory/diszkret\\_log](https://compalg.elte.gitlab-pages.hu/dimoa-web/gyakorlatok/number_theory/diszkret_log) \\)  \n",
    "\n"
   ]
  },
  {
   "cell_type": "code",
   "execution_count": 8,
   "id": "a694e5",
   "metadata": {
    "collapsed": false
   },
   "outputs": [
    {
     "name": "stdout",
     "output_type": "stream",
     "text": [
      "0.00015854835510253906\n"
     ]
    }
   ],
   "source": [
    "def gyors_hat(a, k):\n",
    "    bink = k.str(base=2)\n",
    "    n = len(bink) - 1\n",
    "    r = a\n",
    "    while n > 0:\n",
    "        r = r*r\n",
    "        if bink[n] == '1':\n",
    "            r = r*a\n",
    "        n = n - 1\n",
    "    return r\n",
    "\n",
    "import time\n",
    "start = time.time()\n",
    "gyors_hat(2, 100)\n",
    "end = time.time()\n",
    "print(end-start)"
   ]
  },
  {
   "cell_type": "markdown",
   "id": "7f534c",
   "metadata": {
    "collapsed": false
   },
   "source": [
    "2. Írj programot, amely egy a,m számpárhoz megadja az a pozitív természetes hatványainak halmazát modulo m.  \n",
    "\n"
   ]
  },
  {
   "cell_type": "code",
   "execution_count": 1,
   "id": "0d97cb",
   "metadata": {
    "collapsed": false
   },
   "outputs": [
    {
     "data": {
      "text/plain": [
       "{1, 2, 3, 4, 5, 6}"
      ]
     },
     "execution_count": 1,
     "metadata": {
     },
     "output_type": "execute_result"
    }
   ],
   "source": [
    "def hatvanyok(a, m):\n",
    "    h = set()\n",
    "    hatv = a % m\n",
    "    while hatv not in h:\n",
    "        h.add(hatv)\n",
    "        hatv = (hatv * a) % m\n",
    "    return h\n",
    "\n",
    "hatvanyok(3, 7)"
   ]
  },
  {
   "cell_type": "markdown",
   "id": "7ea62a",
   "metadata": {
    "collapsed": false
   },
   "source": [
    "3. Írj programot, amely adott p esetén megkeresi az összes **generátort**.  \n",
    "\n"
   ]
  },
  {
   "cell_type": "code",
   "execution_count": 3,
   "id": "c0f8c5",
   "metadata": {
    "collapsed": false
   },
   "outputs": [
    {
     "data": {
      "text/plain": [
       "[3, 5]"
      ]
     },
     "execution_count": 3,
     "metadata": {
     },
     "output_type": "execute_result"
    }
   ],
   "source": [
    "def gener(p):\n",
    "    gs = []\n",
    "    for g in range(1, p):\n",
    "        if len(set([pow(g, k, p) for k in range(1, p)])) == p - 1:\n",
    "            gs.append(g)\n",
    "    return gs\n",
    "\n",
    "gener(7)"
   ]
  },
  {
   "cell_type": "markdown",
   "id": "d481a1",
   "metadata": {
    "collapsed": false
   },
   "source": [
    "4. Írj programot, amely a diszkrét logaritmust számolja **brute\\-force** módszerrel! Vesd össze a megoldásod futási idejét a **discrete\\_log** SageMath parancs műveleti idejével!  \n",
    "\n"
   ]
  },
  {
   "cell_type": "code",
   "execution_count": 16,
   "id": "dfac6a",
   "metadata": {
    "collapsed": false
   },
   "outputs": [
    {
     "name": "stdout",
     "output_type": "stream",
     "text": [
      "0.0001010894775390625 0.00021266937255859375\n"
     ]
    }
   ],
   "source": [
    "def bruteF(a, m, p):\n",
    "    for e in range(p):\n",
    "        if pow(a, e, p) == m:\n",
    "            return x\n",
    "    return None\n",
    "\n",
    "a = 5\n",
    "m = 5\n",
    "p = 23\n",
    "\n",
    "from time import *\n",
    "\n",
    "start_time = time()\n",
    "bruteF(a, m, p)\n",
    "brute_time = time() - start_time\n",
    "\n",
    "start_time = time()\n",
    "discrete_log(m, a, p)\n",
    "sage_time = time() - start_time\n",
    "print(brute_time, sage_time)"
   ]
  },
  {
   "cell_type": "markdown",
   "id": "0c5c10",
   "metadata": {
    "collapsed": false
   },
   "source": [
    "5. Írj programot, amely egy **Diffie\\-Hellman** kulcscsere folyamatát szemlélteti, G=Zp \\(p prím\\) választással. \\(lásd [https://compalg.elte.gitlab\\-pages.hu/dimoa\\-web/gyakorlatok/coding\\_theory/cryptography/dh](https://compalg.elte.gitlab-pages.hu/dimoa-web/gyakorlatok/coding_theory/cryptography/dh) \\)  \n",
    "\n"
   ]
  },
  {
   "cell_type": "code",
   "execution_count": 18,
   "id": "dfd940",
   "metadata": {
    "collapsed": false
   },
   "outputs": [
   ],
   "source": [
    "import random\n",
    "\n",
    "class DH_participant:\n",
    "    def __init__(self, p, g):\n",
    "        self.p = p\n",
    "        self.g = g\n",
    "        self.private = random.randint(2, p-2)\n",
    "        self.public = pow(g, self.private, p)\n",
    "    \n",
    "    def get_pub(self): # returns with the public parameter\n",
    "        return self.public\n",
    "    \n",
    "    def calculate_common_key(self, pub_of_other):\n",
    "        return pow(pub_of_other, self.private, self.p)\n",
    "    \n",
    "Alice = DH_participant(65537, 2)\n",
    "Bob   = DH_participant(65537, 2)\n",
    "assert Alice.calculate_common_key(Bob.get_pub()) == Bob.calculate_common_key(Alice.get_pub())"
   ]
  },
  {
   "cell_type": "markdown",
   "id": "ae9278",
   "metadata": {
    "collapsed": false
   },
   "source": [
    "6. Írj osztályt, amely adott publikus paraméterek esetén megvalósítja a titkosításra és hitelesítésre is használható **RSA** sémát! \\([https://compalg.elte.gitlab\\-pages.hu/dimoa\\-web/gyakorlatok/coding\\_theory/cryptography/rsa](https://compalg.elte.gitlab-pages.hu/dimoa-web/gyakorlatok/coding_theory/cryptography/rsa) \\)  \n",
    "\n"
   ]
  },
  {
   "cell_type": "code",
   "execution_count": 1,
   "id": "6f1dcd",
   "metadata": {
    "collapsed": false
   },
   "outputs": [
   ],
   "source": [
    "class RSA(object):\n",
    "    def __init__(self, length):\n",
    "        # uniformly chosen prime is not a good idea in real life \n",
    "        p = random_prime(2^(length-2), lbound=2^(length-3))\n",
    "        q = random_prime(2^(length+2), lbound=2^(length+1))\n",
    "        \n",
    "        self.__n = p * q\n",
    "        self.__phin = (p-1) * (q-1)\n",
    "        self.__e = 3\n",
    "        \n",
    "        while gcd(self.__e, self.__phin) != 1:\n",
    "            self.__e += 2\n",
    "        \n",
    "        self.__d = inverse_mod(self.__e, self.__phin)\n",
    "    \n",
    "    def public_key(self):\n",
    "        return (self.__n, self.__e)\n",
    "    \n",
    "    @staticmethod\n",
    "    def encrypt(pubkey, message):\n",
    "        n, e = pubkey\n",
    "        return power_mod(message, e, n)\n",
    "    \n",
    "    def decrypt(self, secret):\n",
    "        return power_mod(secret, self.__d, self.__n)\n",
    "    \n",
    "    def sign(self, message):\n",
    "        return power_mod(message, self.__d, self.__n)\n",
    "    \n",
    "    @staticmethod\n",
    "    def verify(pubkey, signed_message):\n",
    "        n, e = pubkey\n",
    "        return power_mod(signed_message, e, n)"
   ]
  },
  {
   "cell_type": "code",
   "execution_count": 0,
   "id": "aee9b4",
   "metadata": {
    "collapsed": false
   },
   "outputs": [
   ],
   "source": [
   ]
  }
 ],
 "metadata": {
  "kernelspec": {
   "argv": [
    "sage-10.4",
    "--python",
    "-m",
    "sage.repl.ipython_kernel",
    "--matplotlib=inline",
    "-f",
    "{connection_file}"
   ],
   "display_name": "SageMath 10.4",
   "env": {
   },
   "language": "sagemath",
   "metadata": {
    "cocalc": {
     "description": "Open-source mathematical software system",
     "priority": 10,
     "url": "https://www.sagemath.org/"
    }
   },
   "name": "sage-10.4",
   "resource_dir": "/ext/jupyter/kernels/sage-10.4"
  }
 },
 "nbformat": 4,
 "nbformat_minor": 4
}