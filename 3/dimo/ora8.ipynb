{
 "cells": [
  {
   "cell_type": "code",
   "execution_count": 28,
   "id": "a9eb95",
   "metadata": {
    "collapsed": false
   },
   "outputs": [
    {
     "name": "stdout",
     "output_type": "stream",
     "text": [
      "Legyen f =  4*x^2 + 3*x + 2\n",
      "1. esetben f típusa: <class 'sage.rings.polynomial.polynomial_integer_dense_flint.Polynomial_integer_dense_flint'>\n",
      "2. esetben az f típusa: <class 'sage.rings.polynomial.polynomial_integer_dense_flint.Polynomial_integer_dense_flint'>\n",
      "2. esetben az R(f) típusa: <class 'sage.rings.polynomial.polynomial_integer_dense_flint.Polynomial_integer_dense_flint'>\n",
      "R és QQ['x'] megegyeznek: True\n",
      "3. esetben f típusa: <class 'sage.rings.polynomial.polynomial_rational_flint.Polynomial_rational_flint'>\n",
      "3. esetben f1 típusa: <class 'sage.rings.polynomial.polynomial_integer_dense_flint.Polynomial_integer_dense_flint'>\n",
      "4. esetben f típusa: <class 'sage.rings.polynomial.polynomial_integer_dense_flint.Polynomial_integer_dense_flint'>\n",
      "5. esetben legyen f = y^3 + 2\n",
      "5. esetben f típusa: <class 'sage.rings.polynomial.polynomial_zmod_flint.Polynomial_zmod_flint'>\n",
      "6. esetben legyen f = 5*x^5 + 3*x^3 + 2*x + 1\n",
      "6. esetben f típusa: <class 'sage.rings.polynomial.polynomial_integer_dense_flint.Polynomial_integer_dense_flint'>\n",
      "7. esetben legyen f = y1^2 + x + z + 5*y1 - 102\n",
      "7. esetben f típusa: <class 'sage.rings.polynomial.multi_polynomial_libsingular.MPolynomial_libsingular'>\n"
     ]
    }
   ],
   "source": [
    "# Polinomok definiálása\n",
    "# 1. Ezzel a módszerrel nem kapunk polinomot, pár függvény ígyis müködhet de inkább ne használd ezt.\n",
    "f = 4*x^2+3*x+2\n",
    "print(\"Legyen f = \", f)\n",
    "print(\"1. esetben f típusa:\", type(f))\n",
    "\n",
    "# 2. \n",
    "R = ZZ['x'] # Egészek feletti polinomok\n",
    "p1 = 4*x^2+3*x+2\n",
    "p2 = R(4*x^2+3*x+2)\n",
    "print(f\"2. esetben az f típusa: {type(p1)}\")\n",
    "print(f\"2. esetben az R(f) típusa: {type(p2)}\")\n",
    "\n",
    "# 3.\n",
    "R  = PolynomialRing(QQ, 'x')\n",
    "print(\"R és QQ['x'] megegyeznek:\", type(R) == type(QQ['x']))\n",
    "f = R(4*x^2+3*x+2) # polinom\n",
    "f1 = 4*x^2+3*x+2 # még mindig nem polinom\n",
    "# print(f)\n",
    "print(\"3. esetben f típusa:\",type(f))\n",
    "print(\"3. esetben f1 típusa:\",type(f1))\n",
    "\n",
    "print(\"Vigyázz, mert Expression típutú értéket össze tudsz szorozni polinommal de az eredmény:\", type(x*f))\n",
    "print(\"Előző szorzat polinom típusú ha 'R(x)*f' alakot használsz.\")\n",
    "\n",
    "# 4. \n",
    "RZ.<x> = PolynomialRing(ZZ) # Z[x] feletti polinomok\n",
    "f = 4*x^2+3*x+2 #polinom\n",
    "# print(f)\n",
    "print(\"4. esetben f típusa:\",type(f))\n",
    "\n",
    "# 5. Z_m feletti polinomok\n",
    "# y-t már kell definiálni ha használni akarjuk\n",
    "var('y')\n",
    "RZ3.<y> = PolynomialRing(IntegerModRing(3)) # Z_3 struktura \n",
    "f = 4*y^3+3*y+2\n",
    "print(\"5. esetben legyen f =\", f)\n",
    "print(\"5. esetben f típusa:\", type(f))\n",
    "\n",
    "# 6.  Listából is konstruálható, vigyázzunk az együtthatók sorrendjére!\n",
    "f = ZZ['x']([1,2,0,3, 0, 5])\n",
    "print(\"6. esetben legyen f =\", f)\n",
    "print(\"6. esetben f típusa:\", type(f))\n",
    "\n",
    "\n",
    "#7. többváltozós polinomok\n",
    "var('z,y1')\n",
    "f=ZZ['x,z,y1'](y1^2+5*y1-102 + x + z)\n",
    "print(\"7. esetben legyen f =\", f)\n",
    "print(\"7. esetben f típusa:\", type(f))"
   ]
  },
  {
   "cell_type": "code",
   "execution_count": 3,
   "id": "b24c97",
   "metadata": {
    "collapsed": false,
    "scrolled": true
   },
   "outputs": [
    {
     "name": "stdout",
     "output_type": "stream",
     "text": [
      "Legyen p =  54*x^4 + 36*x^3 - 102*x^2 - 72*x - 12\n",
      "p főegyütthatója:  54\n",
      "p konstans tagja:  -12 -12\n",
      " [-12, -72, -102, 36, 54]\n",
      "p fokszáma:  4\n",
      "p együtthatóinak listája:  [-12, -72, -102, 36, 54]\n",
      "p kiértékelése a 2-ben:  588\n",
      "p x^2 melletti együthatója:  -102\n",
      "3*p =  162*x^4 + 108*x^3 - 306*x^2 - 216*x - 36\n",
      "p^5 =  459165024*x^20 + 1530550080*x^19 - 2295825120*x^18 - 13264767360*x^17 - 3401222400*x^16 + 41290839936*x^15 + 43327794240*x^14 - 45551185920*x^13 - 100635242400*x^12 - 22019532480*x^11 + 78997807008*x^10 + 77192818560*x^9 + 11312136000*x^8 - 29215987200*x^7 - 27763741440*x^6 - 13240599552*x^5 - 3981312000*x^4 - 787553280*x^3 - 100154880*x^2 - 7464960*x - 248832\n",
      "p gyökei:  []\n",
      "p gyökei komplex számok felett:  [(-1.41421356237310, 1), (-0.333333333333333, 2), (1.41421356237310, 1)]\n",
      "p-t polinomok szorzatára bontása:  2 * 3 * (3*x + 1)^2 * (x^2 - 2)\n",
      "Legyen f =  42*x^4 - 7*x^3 + 13*x^2 + 43*x - 12\n",
      "Legyen g =  3*x^2 - x + 1\n",
      "Az f-t elosztva g-vel a hányados 14*x^2 + 2*x és a maradék x^3 + x^2 + 41*x - 12.\n",
      "Legyen p =  (3*x^9 + 3*x^8 + 5*x^7 + 5*x^6 - 11*x^4 - 4*x^3 - 8*x^2 - 7*x + 8)*(x + 10)\n",
      "Legyen q =  x^4 + 2*x^3 + x + 2\n",
      "p és q polinomok legnagyobb közös oszó polinomja:  x + 1\n"
     ]
    }
   ],
   "source": [
    "# Műveletek polinomokkal\n",
    "p3 = ZZ['x'](54*x^4 + 36*x^3 - 102*x^2 - 72*x - 12)\n",
    "print(\"Legyen p = \", p3)\n",
    "print(\"p főegyütthatója: \", p3.leading_coefficient())\n",
    "print(\"p konstans tagja: \", p3.constant_coefficient(), p3(0))\n",
    "print(\"\", p3.coefficients()) \n",
    "print(\"p fokszáma: \", p3.degree())\n",
    "print(\"p együtthatóinak listája: \", p3.list())\n",
    "print(\"p kiértékelése a 2-ben: \", p3(2))\n",
    "print(f\"p {x^2} melletti együthatója: \", p3[2])\n",
    "print(\"3*p = \", 3 * p3)\n",
    "print(\"p^5 = \", p3^5)\n",
    "\n",
    "print(\"p gyökei: \", p3.roots())\n",
    "print(\"p gyökei komplex számok felett: \", p3.roots(ring=CC))\n",
    "print(\"p-t polinomok szorzatára bontása: \", p3.factor())\n",
    "\n",
    "\n",
    "# Maradékos osztás (ha elvégezhető)\n",
    "T = ZZ['x']\n",
    "f = T(42*x^4 - 7*x^3 + 13*x^2 + 43*x - 12)\n",
    "g = T(3*x^2 - x + 1) \n",
    "\n",
    "print(\"Legyen f = \", f)\n",
    "print(\"Legyen g = \", g)\n",
    "print(f\"Az f-t elosztva g-vel a hányados {f // g} és a maradék {f % g}.\")\n",
    "\n",
    "\n",
    "p = ZZ['x']((3*x^8+5*x^6-11*x^3+7*x^2-15*x+8)*(x+1))*(x+10)\n",
    "q = ZZ['x']((x^3+1)*(x+2))\n",
    "print(\"Legyen p = \", p)\n",
    "print(\"Legyen q = \", q)\n",
    "print(\"p és q polinomok legnagyobb közös oszó polinomja: \", gcd(p,q)) # lehet p.gcd(q) alakba is írni\n",
    "\n"
   ]
  },
  {
   "cell_type": "markdown",
   "id": "d575ff",
   "metadata": {
    "collapsed": false
   },
   "source": [
    "1. Készítsen függvényt, amely paraméterként fogad egy poly polinomot, és eredményül ad egy olyan polinomot, \n",
    "   amely ugyanazokon a \\(valós x\\) helyeken vesz fel nulla értéket mint a poly polinom.   \n",
    "\n"
   ]
  },
  {
   "cell_type": "code",
   "execution_count": 4,
   "id": "f72f57",
   "metadata": {
    "collapsed": false,
    "scrolled": true
   },
   "outputs": [
    {
     "name": "stdout",
     "output_type": "stream",
     "text": [
      "p gyökei:  [(-1, 1), (-10, 1)]\n"
     ]
    }
   ],
   "source": [
    "# Segítség: a roots függvény párokad ad vissza ahol az első érték az az c amire p(c) = 0, a második pedig, hogy hányszoros gyök vagyis a szorzat alakban az (x-c) hányadik hatványon jelenik meg\n",
    "print(\"p gyökei: \", p.roots())\n"
   ]
  },
  {
   "cell_type": "code",
   "execution_count": 1,
   "id": "d19a8b",
   "metadata": {
    "collapsed": false
   },
   "outputs": [
   ],
   "source": [
    "def n_polly(poly):\n",
    "    R = poly.parent()\n",
    "    roots = poly.roots()\n",
    "    null_polynomial = R(1)\n",
    "    for root, multiplicity in roots:\n",
    "        null_polynomial *= (R.gen() - root)^multiplicity\n",
    "    return null_polynomial"
   ]
  },
  {
   "cell_type": "markdown",
   "id": "3624e4",
   "metadata": {
    "collapsed": false
   },
   "source": [
    "2. Írj polinom osztályt, ahol definiálva van a fokszám és az aritmetikai műveletek! Konstruktor egy F listát kap paraméterként. \\(lásd [https://compalg.elte.gitlab\\-pages.hu/dimoa\\-web/gyakorlatok/polynomials/definicio](https://compalg.elte.gitlab-pages.hu/dimoa-web/gyakorlatok/polynomials/definicio)\\)  \n",
    "\n"
   ]
  },
  {
   "cell_type": "code",
   "execution_count": 3,
   "id": "c2fe78",
   "metadata": {
    "collapsed": false
   },
   "outputs": [
   ],
   "source": [
    "class my_poly(object):\n",
    "    def __init__(self, F):\n",
    "        self.coefficients = F\n",
    "        \n",
    "    def deg(self):\n",
    "        return len(self.coefficients) - 1 if self.coefficients else -1\n",
    "    \n",
    "    def __add__(self, other):\n",
    "        max_deg = max(self.deg(), other.deg())\n",
    "        result = [0] * (max_deg + 1)\n",
    "        \n",
    "        for i in range(self.deg() + 1):\n",
    "            result[i] += self.coefficients[i]\n",
    "        for i in range(other.deg() + 1):\n",
    "            result[i] += other.coefficients[i]\n",
    "            \n",
    "        return my_poly(result)\n",
    "        \n",
    "    def __mul__(self, other):\n",
    "        result_deg = self.deg() + other.deg()\n",
    "        result = [0] * (result_deg + 1)\n",
    "        \n",
    "        for i in range(self.deg() + 1):\n",
    "            for j in range(other.deg() + 1):\n",
    "                result[i + j] += self.coefficients[i] * other.coefficients[j]\n",
    "        \n",
    "        return my_poly(result)\n",
    "        \n",
    "    def __repr__(self):\n",
    "        return \" + \".join(f\"{coef}*x^{i}\" for i, coef in enumerate(self.coefficients) if coef != 0)\n",
    "    \n",
    "    def eval(self, x):\n",
    "        result = 0\n",
    "        for coef in reversed(self.coefficients):\n",
    "            result = result * x + coef\n",
    "        return result\n"
   ]
  },
  {
   "cell_type": "markdown",
   "id": "1ae857",
   "metadata": {
    "collapsed": false
   },
   "source": [
    "3. Egészítsd ki az előző feladatban adott polinom\\-osztályt egy eval kiértékelő függvénnyel, ami a kiértékelést Horner\\-elrendezésnek megfelelően készíti el!\n",
    "\n"
   ]
  },
  {
   "cell_type": "markdown",
   "id": "b0026b",
   "metadata": {
    "collapsed": false
   },
   "source": [
    "4. Írj programot, amely megvalósítja a **Lagrange\\-interpolációt** egész számokra, azaz egy **n** elemű egész számokból alkotott párokból \\(xi,yi\\) álló lista esetén visszaadja az egész együtthatós interpolációs polinomot \\(ha van ilyen az egész számok felett\\)! Ellenőrzéshez használható a **PolynomialRing\\(QQ\\).lagrange\\_polynomial\\(L\\)** függvény. \\(lásd [https://compalg.elte.gitlab\\-pages.hu/dimoa\\-web/gyakorlatok/polynomials/interpolacio](https://compalg.elte.gitlab-pages.hu/dimoa-web/gyakorlatok/polynomials/interpolacio)\\)  \n",
    "\n"
   ]
  },
  {
   "cell_type": "code",
   "execution_count": 7,
   "id": "e8fe7e",
   "metadata": {
    "collapsed": false
   },
   "outputs": [
    {
     "name": "stdout",
     "output_type": "stream",
     "text": [
      "x + 1\n",
      "x + 1\n"
     ]
    }
   ],
   "source": [
    "def lagrange_interp(points):\n",
    "    R = PolynomialRing(QQ, 'x')\n",
    "    x = R.gen()\n",
    "    \n",
    "    n = len(points)\n",
    "    P = R(0)\n",
    "    \n",
    "    for i in range(n):\n",
    "        xi, yi = points[i]\n",
    "        Li = R(yi)\n",
    "        \n",
    "        for j in range(n):\n",
    "            if i != j:\n",
    "                xj = points[j][0]\n",
    "                Li *= (x - xj)\n",
    "                Li //= (xi - xj)\n",
    "        P += Li\n",
    "        \n",
    "    return P\n",
    "\n",
    "L = [(1, 2), (3, 4), (5, 6)]\n",
    "P = lagrange_interp(L)\n",
    "Q = PolynomialRing(QQ, 'x').lagrange_polynomial(L)\n",
    "\n",
    "print(P)\n",
    "print(Q)"
   ]
  },
  {
   "cell_type": "code",
   "execution_count": 0,
   "id": "19d8ca",
   "metadata": {
    "collapsed": false
   },
   "outputs": [
   ],
   "source": [
   ]
  }
 ],
 "metadata": {
  "kernelspec": {
   "argv": [
    "sage-10.4",
    "--python",
    "-m",
    "sage.repl.ipython_kernel",
    "--matplotlib=inline",
    "-f",
    "{connection_file}"
   ],
   "display_name": "SageMath 10.4",
   "env": {
   },
   "language": "sagemath",
   "metadata": {
    "cocalc": {
     "description": "Open-source mathematical software system",
     "priority": 10,
     "url": "https://www.sagemath.org/"
    }
   },
   "name": "sage-10.4",
   "resource_dir": "/ext/jupyter/kernels/sage-10.4"
  }
 },
 "nbformat": 4,
 "nbformat_minor": 4
}